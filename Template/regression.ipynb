{
 "cells": [
  {
   "cell_type": "markdown",
   "metadata": {},
   "source": [
    "Thank you for choosing Bgolearn for material design. \n",
    "Bgolearn is developed to facilitate the application of machine learning in research.\n",
    "Bgolearn is designed for optimizing single-target material properties.\n",
    "The BgoKit package is being developed to facilitate multi-task design.\n",
    "\n",
    "\n",
    "If you need to perform multi-target optimization, here are two important reminders:\n",
    "\n",
    "1. Multi-tasks can be converted into a single task using domain knowledge. \n",
    "For example, you can use a weighted linear combination in the simplest situation. That is, y = w*y1 + y2...\n",
    "\n",
    "2. Multi-tasks can be optimized using Pareto fronts. \n",
    "Bgolearn will return two arrays based on your dataset: \n",
    "the first array is a evaluation score for each virtual sample, \n",
    "while the second array is the recommended data considering only the current optimized target.\n",
    "\n",
    "The first array is crucial for multi-task optimization. \n",
    "For instance, in a two-task optimization scenario, you can evaluate each candidate twice for the two separate targets. \n",
    "Then, plot the score of target 1 for each sample on the x-axis and the score of target 2 on the y-axis. \n",
    "The trade-off consideration is to select the data located in the front of the banana curve.\n",
    "\n",
    "I am delighted to invite you to participate in the development of Bgolearn. \n",
    "If you have any issues or suggestions, please feel free to contact me at binjacobcao@gmail.com."
   ]
  },
  {
   "cell_type": "markdown",
   "metadata": {},
   "source": [
    "####################################################################################################################"
   ]
  },
  {
   "cell_type": "raw",
   "metadata": {},
   "source": [
    "Task:\n",
    "\n",
    "We want to determine the minimum function value of Y based on 12 randomly sampled initial data points. You are given a set of 12 data points, and your goal is to find the lowest value of the function Y among these points.\n",
    "\n",
    "    Y = 0.013*X**4 - 0.25*X**3 + 1.61*X**2 - 4.1*X + 8\n",
    "    \n",
    "    \n",
    "By Bgolearn "
   ]
  },
  {
   "cell_type": "code",
   "execution_count": 1,
   "metadata": {},
   "outputs": [],
   "source": [
    "import numpy as np\n",
    "import pandas as pd\n",
    "import matplotlib.pyplot as plt\n",
    "\n",
    "import Bgolearn.BGOsampling as BGOS"
   ]
  },
  {
   "cell_type": "markdown",
   "metadata": {},
   "source": [
    "# It's a noise-free example/one-d"
   ]
  },
  {
   "cell_type": "markdown",
   "metadata": {},
   "source": [
    "## 1 : input the dataset "
   ]
  },
  {
   "cell_type": "code",
   "execution_count": 2,
   "metadata": {},
   "outputs": [],
   "source": [
    "data = pd.read_csv('data.csv')\n",
    "x = data.iloc[:,:-1]\n",
    "y = data.iloc[:,-1]"
   ]
  },
  {
   "cell_type": "code",
   "execution_count": 3,
   "metadata": {},
   "outputs": [
    {
     "data": {
      "text/html": [
       "<div>\n",
       "<style scoped>\n",
       "    .dataframe tbody tr th:only-of-type {\n",
       "        vertical-align: middle;\n",
       "    }\n",
       "\n",
       "    .dataframe tbody tr th {\n",
       "        vertical-align: top;\n",
       "    }\n",
       "\n",
       "    .dataframe thead th {\n",
       "        text-align: right;\n",
       "    }\n",
       "</style>\n",
       "<table border=\"1\" class=\"dataframe\">\n",
       "  <thead>\n",
       "    <tr style=\"text-align: right;\">\n",
       "      <th></th>\n",
       "      <th>x</th>\n",
       "      <th>y</th>\n",
       "    </tr>\n",
       "  </thead>\n",
       "  <tbody>\n",
       "    <tr>\n",
       "      <th>0</th>\n",
       "      <td>0.5</td>\n",
       "      <td>6.322063</td>\n",
       "    </tr>\n",
       "    <tr>\n",
       "      <th>1</th>\n",
       "      <td>1.0</td>\n",
       "      <td>5.273000</td>\n",
       "    </tr>\n",
       "    <tr>\n",
       "      <th>2</th>\n",
       "      <td>1.5</td>\n",
       "      <td>4.694562</td>\n",
       "    </tr>\n",
       "    <tr>\n",
       "      <th>3</th>\n",
       "      <td>2.0</td>\n",
       "      <td>4.448000</td>\n",
       "    </tr>\n",
       "    <tr>\n",
       "      <th>4</th>\n",
       "      <td>2.5</td>\n",
       "      <td>4.414062</td>\n",
       "    </tr>\n",
       "    <tr>\n",
       "      <th>5</th>\n",
       "      <td>3.0</td>\n",
       "      <td>4.493000</td>\n",
       "    </tr>\n",
       "    <tr>\n",
       "      <th>6</th>\n",
       "      <td>3.5</td>\n",
       "      <td>4.604563</td>\n",
       "    </tr>\n",
       "    <tr>\n",
       "      <th>7</th>\n",
       "      <td>4.0</td>\n",
       "      <td>4.688000</td>\n",
       "    </tr>\n",
       "    <tr>\n",
       "      <th>8</th>\n",
       "      <td>4.5</td>\n",
       "      <td>4.702063</td>\n",
       "    </tr>\n",
       "    <tr>\n",
       "      <th>9</th>\n",
       "      <td>9.0</td>\n",
       "      <td>4.553000</td>\n",
       "    </tr>\n",
       "    <tr>\n",
       "      <th>10</th>\n",
       "      <td>9.5</td>\n",
       "      <td>5.894563</td>\n",
       "    </tr>\n",
       "    <tr>\n",
       "      <th>11</th>\n",
       "      <td>10.0</td>\n",
       "      <td>8.000000</td>\n",
       "    </tr>\n",
       "  </tbody>\n",
       "</table>\n",
       "</div>"
      ],
      "text/plain": [
       "       x         y\n",
       "0    0.5  6.322063\n",
       "1    1.0  5.273000\n",
       "2    1.5  4.694562\n",
       "3    2.0  4.448000\n",
       "4    2.5  4.414062\n",
       "5    3.0  4.493000\n",
       "6    3.5  4.604563\n",
       "7    4.0  4.688000\n",
       "8    4.5  4.702063\n",
       "9    9.0  4.553000\n",
       "10   9.5  5.894563\n",
       "11  10.0  8.000000"
      ]
     },
     "execution_count": 3,
     "metadata": {},
     "output_type": "execute_result"
    }
   ],
   "source": [
    "data"
   ]
  },
  {
   "cell_type": "code",
   "execution_count": 4,
   "metadata": {},
   "outputs": [
    {
     "data": {
      "text/html": [
       "<div>\n",
       "<style scoped>\n",
       "    .dataframe tbody tr th:only-of-type {\n",
       "        vertical-align: middle;\n",
       "    }\n",
       "\n",
       "    .dataframe tbody tr th {\n",
       "        vertical-align: top;\n",
       "    }\n",
       "\n",
       "    .dataframe thead th {\n",
       "        text-align: right;\n",
       "    }\n",
       "</style>\n",
       "<table border=\"1\" class=\"dataframe\">\n",
       "  <thead>\n",
       "    <tr style=\"text-align: right;\">\n",
       "      <th></th>\n",
       "      <th>x</th>\n",
       "    </tr>\n",
       "  </thead>\n",
       "  <tbody>\n",
       "    <tr>\n",
       "      <th>0</th>\n",
       "      <td>0.5</td>\n",
       "    </tr>\n",
       "    <tr>\n",
       "      <th>1</th>\n",
       "      <td>1.0</td>\n",
       "    </tr>\n",
       "    <tr>\n",
       "      <th>2</th>\n",
       "      <td>1.5</td>\n",
       "    </tr>\n",
       "    <tr>\n",
       "      <th>3</th>\n",
       "      <td>2.0</td>\n",
       "    </tr>\n",
       "    <tr>\n",
       "      <th>4</th>\n",
       "      <td>2.5</td>\n",
       "    </tr>\n",
       "    <tr>\n",
       "      <th>5</th>\n",
       "      <td>3.0</td>\n",
       "    </tr>\n",
       "    <tr>\n",
       "      <th>6</th>\n",
       "      <td>3.5</td>\n",
       "    </tr>\n",
       "    <tr>\n",
       "      <th>7</th>\n",
       "      <td>4.0</td>\n",
       "    </tr>\n",
       "    <tr>\n",
       "      <th>8</th>\n",
       "      <td>4.5</td>\n",
       "    </tr>\n",
       "    <tr>\n",
       "      <th>9</th>\n",
       "      <td>9.0</td>\n",
       "    </tr>\n",
       "    <tr>\n",
       "      <th>10</th>\n",
       "      <td>9.5</td>\n",
       "    </tr>\n",
       "    <tr>\n",
       "      <th>11</th>\n",
       "      <td>10.0</td>\n",
       "    </tr>\n",
       "  </tbody>\n",
       "</table>\n",
       "</div>"
      ],
      "text/plain": [
       "       x\n",
       "0    0.5\n",
       "1    1.0\n",
       "2    1.5\n",
       "3    2.0\n",
       "4    2.5\n",
       "5    3.0\n",
       "6    3.5\n",
       "7    4.0\n",
       "8    4.5\n",
       "9    9.0\n",
       "10   9.5\n",
       "11  10.0"
      ]
     },
     "execution_count": 4,
     "metadata": {},
     "output_type": "execute_result"
    }
   ],
   "source": [
    "x"
   ]
  },
  {
   "cell_type": "code",
   "execution_count": 5,
   "metadata": {},
   "outputs": [
    {
     "data": {
      "text/plain": [
       "0     6.322063\n",
       "1     5.273000\n",
       "2     4.694562\n",
       "3     4.448000\n",
       "4     4.414062\n",
       "5     4.493000\n",
       "6     4.604563\n",
       "7     4.688000\n",
       "8     4.702063\n",
       "9     4.553000\n",
       "10    5.894563\n",
       "11    8.000000\n",
       "Name: y, dtype: float64"
      ]
     },
     "execution_count": 5,
     "metadata": {},
     "output_type": "execute_result"
    }
   ],
   "source": [
    "y"
   ]
  },
  {
   "cell_type": "markdown",
   "metadata": {},
   "source": [
    "## 2 : design virtual space"
   ]
  },
  {
   "cell_type": "markdown",
   "metadata": {},
   "source": [
    "The virtual samples have been designed by you. \n",
    "They have not been tested or generated from actual data sources. \n",
    "These samples consist only of features and do not include any labels.\n",
    "While the number of virtual samples can be arbitrary, they have been reasonably designed to ensure meaningful."
   ]
  },
  {
   "cell_type": "code",
   "execution_count": 6,
   "metadata": {},
   "outputs": [
    {
     "data": {
      "text/plain": [
       "array([ 0. ,  0.1,  0.2,  0.3,  0.4,  0.5,  0.6,  0.7,  0.8,  0.9,  1. ,\n",
       "        1.1,  1.2,  1.3,  1.4,  1.5,  1.6,  1.7,  1.8,  1.9,  2. ,  2.1,\n",
       "        2.2,  2.3,  2.4,  2.5,  2.6,  2.7,  2.8,  2.9,  3. ,  3.1,  3.2,\n",
       "        3.3,  3.4,  3.5,  3.6,  3.7,  3.8,  3.9,  4. ,  4.1,  4.2,  4.3,\n",
       "        4.4,  4.5,  4.6,  4.7,  4.8,  4.9,  5. ,  5.1,  5.2,  5.3,  5.4,\n",
       "        5.5,  5.6,  5.7,  5.8,  5.9,  6. ,  6.1,  6.2,  6.3,  6.4,  6.5,\n",
       "        6.6,  6.7,  6.8,  6.9,  7. ,  7.1,  7.2,  7.3,  7.4,  7.5,  7.6,\n",
       "        7.7,  7.8,  7.9,  8. ,  8.1,  8.2,  8.3,  8.4,  8.5,  8.6,  8.7,\n",
       "        8.8,  8.9,  9. ,  9.1,  9.2,  9.3,  9.4,  9.5,  9.6,  9.7,  9.8,\n",
       "        9.9, 10. , 10.1, 10.2, 10.3, 10.4, 10.5, 10.6, 10.7, 10.8, 10.9,\n",
       "       11. ])"
      ]
     },
     "execution_count": 6,
     "metadata": {},
     "output_type": "execute_result"
    }
   ],
   "source": [
    "# searching domain is [0,11]\n",
    "# one-d\n",
    "vs = np.linspace(0,11,111)\n",
    "vs"
   ]
  },
  {
   "cell_type": "code",
   "execution_count": 7,
   "metadata": {},
   "outputs": [
    {
     "data": {
      "text/plain": [
       "111"
      ]
     },
     "execution_count": 7,
     "metadata": {},
     "output_type": "execute_result"
    }
   ],
   "source": [
    "len(vs)"
   ]
  },
  {
   "cell_type": "markdown",
   "metadata": {},
   "source": [
    "## note : the true function and initial data distribution"
   ]
  },
  {
   "cell_type": "markdown",
   "metadata": {},
   "source": [
    "The real function is unnecessary for optimization.\n",
    "In this simple case. \n",
    "we plot the real function is to demonstrate the rationality of Bgolearn's recommended points. "
   ]
  },
  {
   "cell_type": "code",
   "execution_count": 8,
   "metadata": {},
   "outputs": [],
   "source": [
    "# true/real function \n",
    "def function(X):\n",
    "    X = np.array(X)\n",
    "    Y = 0.013*X**4 - 0.25*X**3 + 1.61*X**2 - 4.1*X + 8\n",
    "    return Y"
   ]
  },
  {
   "cell_type": "code",
   "execution_count": 9,
   "metadata": {},
   "outputs": [
    {
     "data": {
      "text/plain": [
       "<matplotlib.legend.Legend at 0x1591c8580>"
      ]
     },
     "execution_count": 9,
     "metadata": {},
     "output_type": "execute_result"
    },
    {
     "data": {
      "image/png": "[encoded data removed]",
      "text/plain": [
       "<Figure size 640x480 with 1 Axes>"
      ]
     },
     "metadata": {},
     "output_type": "display_data"
    }
   ],
   "source": [
    "\n",
    "plt.figure()\n",
    "ax1 = plt.subplot()\n",
    "ax1.scatter(x,y,c='r',s=50,zorder=10,edgecolors=(0,0,0),label=\"training data\")\n",
    "ax1.plot(vs,function(vs),'b',lw=2,label=\"ture function\")\n",
    "plt.xlabel('x',fontsize = 12)\n",
    "plt.ylabel('y',fontsize = 12)\n",
    "plt.legend(fontsize = 11)"
   ]
  },
  {
   "cell_type": "markdown",
   "metadata": {},
   "source": [
    "## 3 : give the next recommendation by Bgolearn"
   ]
  },
  {
   "cell_type": "code",
   "execution_count": 10,
   "metadata": {},
   "outputs": [
    {
     "name": "stdout",
     "output_type": "stream",
     "text": [
      " ____                 _                           \n",
      "| __ )   __ _   ___  | |  ___   __ _  _ __  _ __  \n",
      "|  _ \\  / _` | / _ \\ | | / _ \\ / _` || '__|| '_ \\ \n",
      "| |_) || (_| || (_) || ||  __/| (_| || |   | | | |\n",
      "|____/  \\__, | \\___/ |_| \\___| \\__,_||_|   |_| |_|\n",
      "        |___/                                     \n",
      "\n",
      "Package Name : Bgolearn\n",
      "Author : Bin CAO, HKUST(GZ)\n",
      "Intro : https://bgolearn.netlify.app/\n",
      "URL : https://github.com/Bin-Cao/Bgolearn\n",
      "Citation Format Suggestion:\n",
      "[Bin CAO et al]. \"Active learning accelerates the discovery of high strength and high ductility lead-free solder alloys\", [2023], [DOI : http://dx.doi.org/10.2139/ssrn.4686075].\n",
      "Executed on : 2024-01-06 23:55:38  | Have a great day.\n",
      "================================================================================\n",
      "The internal model is instantiated with optimized homogenous noise\n",
      "current optimal is : 4.4140625\n",
      "The 1-th datum recomended by Expected Improvement : \n",
      " x =  [8.2]\n",
      "The predictions of Bgolearn are : \n",
      " y =  4.338227476898954\n",
      "The 2-th datum recomended by Expected Improvement : \n",
      " x =  [8.3]\n",
      "The predictions of Bgolearn are : \n",
      " y =  4.294587329706257\n",
      "The 3-th datum recomended by Expected Improvement : \n",
      " x =  [8.1]\n",
      "The predictions of Bgolearn are : \n",
      " y =  4.397302263077634\n",
      "The 4-th datum recomended by Expected Improvement : \n",
      " x =  [8.4]\n",
      "The predictions of Bgolearn are : \n",
      " y =  4.271564943821996\n"
     ]
    }
   ],
   "source": [
    "Bgolearn = BGOS.Bgolearn()\n",
    "\n",
    "Mymodel = Bgolearn.fit(data_matrix = x,Measured_response = y ,virtual_samples = vs,opt_num=4)\n",
    "\n",
    "# Expected Improvement method\n",
    "score, data = Mymodel.EI()"
   ]
  },
  {
   "cell_type": "code",
   "execution_count": 11,
   "metadata": {},
   "outputs": [
    {
     "data": {
      "text/plain": [
       "array([2.47600126e-03, 9.67368543e-04, 3.22942353e-04, 9.54907232e-05,\n",
       "       2.79853375e-05, 1.01042986e-05, 5.96877718e-06, 7.05748819e-06,\n",
       "       1.61519050e-05, 5.59715732e-05, 2.20648104e-04, 8.12089220e-04,\n",
       "       2.54400457e-03, 6.62194834e-03, 1.44400665e-02, 2.69037192e-02,\n",
       "       4.37810787e-02, 6.35582014e-02, 8.39060581e-02, 1.02435578e-01,\n",
       "       1.17317668e-01, 1.27560719e-01, 1.32981621e-01, 1.34007520e-01,\n",
       "       1.31430491e-01, 1.26187112e-01, 1.19194345e-01, 1.11248773e-01,\n",
       "       1.02982517e-01, 9.48611532e-02, 8.72054151e-02, 8.02195602e-02,\n",
       "       7.40142206e-02, 6.86188517e-02, 6.39862925e-02, 5.99974360e-02,\n",
       "       5.64761324e-02, 5.32228289e-02, 5.00705989e-02, 4.69596645e-02,\n",
       "       4.40161813e-02, 4.16085857e-02, 4.03461512e-02, 4.09933252e-02,\n",
       "       4.43060426e-02, 5.08306957e-02, 6.07281376e-02, 7.36997816e-02,\n",
       "       8.90563003e-02, 1.05881189e-01, 1.23203132e-01, 1.40125888e-01,\n",
       "       1.55907652e-01, 1.70000147e-01, 1.82059091e-01, 1.91934531e-01,\n",
       "       1.99647133e-01, 2.05355426e-01, 2.09318579e-01, 2.11859013e-01,\n",
       "       2.13328588e-01, 2.14081227e-01, 2.14453686e-01, 2.14754895e-01,\n",
       "       2.15263095e-01, 2.16229087e-01, 2.17883318e-01, 2.20444379e-01,\n",
       "       2.24126581e-01, 2.29144590e-01, 2.35713438e-01, 2.44042465e-01,\n",
       "       2.54321928e-01, 2.66701045e-01, 2.81256332e-01, 2.97949309e-01,\n",
       "       3.16573208e-01, 3.36689361e-01, 3.57555651e-01, 3.78052058e-01,\n",
       "       3.96612222e-01, 4.11175664e-01, 4.19183604e-01, 4.17653480e-01,\n",
       "       4.03385803e-01, 3.73388001e-01, 3.25655254e-01, 2.60534594e-01,\n",
       "       1.82904646e-01, 1.04622191e-01, 4.33668203e-02, 1.11396961e-02,\n",
       "       1.52479018e-03, 1.02573759e-04, 3.42852832e-06, 6.28364961e-08,\n",
       "       8.08778591e-10, 1.24528472e-11, 5.43107296e-13, 1.61977494e-13,\n",
       "       4.47681206e-13, 6.81097900e-12, 2.27819924e-10, 7.84428563e-09,\n",
       "       1.85801191e-07, 2.66418224e-06, 2.34664554e-05, 1.35826660e-04,\n",
       "       5.57666455e-04, 1.73940117e-03, 4.36038172e-03])"
      ]
     },
     "execution_count": 11,
     "metadata": {},
     "output_type": "execute_result"
    }
   ],
   "source": [
    "# score : the  assessment scores of Bgolearn by EI mothod for all the candidates, higher the better\n",
    "score"
   ]
  },
  {
   "cell_type": "code",
   "execution_count": 13,
   "metadata": {},
   "outputs": [
    {
     "data": {
      "text/plain": [
       "array([[8.2]])"
      ]
     },
     "execution_count": 13,
     "metadata": {},
     "output_type": "execute_result"
    }
   ],
   "source": [
    "# datum : the datum Bgolearn recommended which is most likely to be the minimun\n",
    "data"
   ]
  },
  {
   "cell_type": "markdown",
   "metadata": {},
   "source": [
    "## 4 : verify the recommended datum and add the result into the dataset"
   ]
  },
  {
   "cell_type": "code",
   "execution_count": 13,
   "metadata": {},
   "outputs": [
    {
     "data": {
      "text/plain": [
       "3.5702288000000166"
      ]
     },
     "execution_count": 13,
     "metadata": {},
     "output_type": "execute_result"
    }
   ],
   "source": [
    "# simulate an experiment\n",
    "new_y = function(8.2)\n",
    "new_y"
   ]
  },
  {
   "cell_type": "raw",
   "metadata": {},
   "source": [
    "add datum [8.2,3.5702288000000166] into the training dataset, i.e., x"
   ]
  },
  {
   "cell_type": "markdown",
   "metadata": {},
   "source": [
    "At the end of one cycle, in the next cycle:\n",
    "1. The training set samples are augmented, allowing the model to achieve a more precise fit to the x-y functional relationship, resulting in improved recommendations.\n",
    "2. The sample augmentation ensures accurate sampling at the original sparse positions, expanding the coverage space of the initial dataset."
   ]
  },
  {
   "cell_type": "markdown",
   "metadata": {},
   "source": [
    "## 5 : more details in Bgolearn package"
   ]
  },
  {
   "cell_type": "markdown",
   "metadata": {},
   "source": [
    "## if you want to apply your own regression model"
   ]
  },
  {
   "cell_type": "markdown",
   "metadata": {},
   "source": [
    "Sometimes, users may find it necessary **to define their custom model** \n",
    "or modify the existing model to pursue improved results and enhanced flexibility. \n",
    "**Bgolearn allows and supports** such customization to meet the diverse needs and preferences of users."
   ]
  },
  {
   "cell_type": "markdown",
   "metadata": {},
   "source": [
    "Your model can be passed to Bgolearn via the parameter **Kriging_model** defined in fit()\n",
    "However, your function should be defined **by the template I provided below**\n",
    "\n",
    "1: it is a class has an attribute of **fit_pre**\n",
    "2: **fit_pre** has three parameters, i.e., xtrain, ytrain, xtest\n",
    "    xtrain (features) & ytrain (labels or responses) are the training data for your model;\n",
    "    xtest (features) is the predicted data \n",
    "3: this class has two output, i.e., mean, std\n",
    "    mean : the predictions of xtest\n",
    "    std : the prediction standard deviations (Confidence) of xtest"
   ]
  },
  {
   "cell_type": "code",
   "execution_count": 14,
   "metadata": {},
   "outputs": [],
   "source": [
    "from sklearn.gaussian_process import GaussianProcessRegressor\n",
    "from sklearn.gaussian_process.kernels import  RBF\n",
    "\n",
    "class My_Regressor(object): \n",
    "    def fit_pre(self,xtrain,ytrain,xtest):\n",
    "        # instantiated model\n",
    "        mdoel = GaussianProcessRegressor(kernel=RBF()).fit(xtrain,ytrain)\n",
    "        # defined the outputs\n",
    "        mean,std = mdoel.predict(xtest,return_std=True)\n",
    "        return mean,std    "
   ]
  },
  {
   "cell_type": "code",
   "execution_count": 15,
   "metadata": {},
   "outputs": [
    {
     "name": "stdout",
     "output_type": "stream",
     "text": [
      "The external model is instantiated\n",
      "current optimal is : 4.4140625\n",
      "The next datum recomended by Expected Improvement : \n",
      " x =  [8.5]\n"
     ]
    }
   ],
   "source": [
    "Bgolearn = BGOS.Bgolearn()\n",
    "\n",
    "Mymodel = Bgolearn.fit(\n",
    "    data_matrix = x,Measured_response = y , virtual_samples = vs,\n",
    "    Kriging_model = My_Regressor\n",
    "    \n",
    ")\n",
    "\n",
    "# Expected Improvement method\n",
    "score, data = Mymodel.EI()"
   ]
  },
  {
   "cell_type": "markdown",
   "metadata": {},
   "source": [
    "The results obtained here may differ somewhat from using the Bgolearn built-in model\n",
    "\n",
    "since a user-defined Gaussian process with default parameters is utilized in My_Regressor. \n",
    "\n",
    "Although the Bgolearn built-in model is also a Gaussian process model, I have implemented a well-designed parameter estimation method and data processing approach to enhance its performance and achieve more meaningful outcomes."
   ]
  },
  {
   "cell_type": "markdown",
   "metadata": {},
   "source": [
    "### Bgolearn can recommend n candidates at  once "
   ]
  },
  {
   "cell_type": "code",
   "execution_count": 17,
   "metadata": {},
   "outputs": [
    {
     "name": "stdout",
     "output_type": "stream",
     "text": [
      "The internal model is instantiated with optimized homogenous noise\n",
      "current optimal is : 4.4140625\n",
      "The 1-th datum recomended by Probability of Improvement  : \n",
      " x =  [8.6]\n",
      "The 2-th datum recomended by Probability of Improvement  : \n",
      " x =  [8.4]\n",
      "The 3-th datum recomended by Probability of Improvement  : \n",
      " x =  [8.5]\n"
     ]
    }
   ],
   "source": [
    "Bgolearn = BGOS.Bgolearn()\n",
    "\n",
    "# for n = 3\n",
    "Mymodel = Bgolearn.fit(\n",
    "    data_matrix = x,Measured_response = y , virtual_samples = vs,\n",
    "    opt_num = 3\n",
    "    \n",
    ")\n",
    "\n",
    "\n",
    "score, data = Mymodel.PoI()"
   ]
  },
  {
   "cell_type": "markdown",
   "metadata": {},
   "source": [
    "##  Bgolearn can search the maximum of y (set : min_search = False)"
   ]
  },
  {
   "cell_type": "code",
   "execution_count": 18,
   "metadata": {},
   "outputs": [
    {
     "name": "stdout",
     "output_type": "stream",
     "text": [
      "The internal model is instantiated with optimized homogenous noise\n",
      "current optimal is : 8.0\n",
      "The next datum recomended by Expected Improvement : \n",
      " x =  [10.6]\n"
     ]
    }
   ],
   "source": [
    "Bgolearn = BGOS.Bgolearn()\n",
    "\n",
    "Mymodel = Bgolearn.fit(\n",
    "    data_matrix = x,Measured_response = y , virtual_samples = vs,\n",
    "    min_search = False\n",
    "    \n",
    ")\n",
    "\n",
    "# Expected Improvement method\n",
    "score, data = Mymodel.EI()"
   ]
  },
  {
   "cell_type": "markdown",
   "metadata": {},
   "source": [
    "## Bgolearn can test the fitting goodness of model on training dataset (CV_test = 'LOOCV', or =5)"
   ]
  },
  {
   "cell_type": "code",
   "execution_count": 19,
   "metadata": {},
   "outputs": [
    {
     "name": "stdout",
     "output_type": "stream",
     "text": [
      "The internal model is instantiated with optimized homogenous noise\n",
      "Time consuming warning\n",
      "LeaveOneOut Cross validation is applied\n",
      "Fitting goodness on training dataset: \n",
      "  RMSE = 0.242285   MAE = 0.152272   R2 = 0.944968\n",
      "Fitting goodness of LOOCV:\n",
      "  RMSE = 1.029498   MAE = 0.640032   R2 = 0.006403\n",
      "current optimal is : 4.4140625\n",
      "The next datum recomended by Expected Improvement : \n",
      " x =  [8.2]\n"
     ]
    }
   ],
   "source": [
    "Bgolearn = BGOS.Bgolearn()\n",
    "\n",
    "# by leave one out cross validation \n",
    "Mymodel = Bgolearn.fit(\n",
    "    data_matrix = x,Measured_response = y , virtual_samples = vs,\n",
    "    CV_test = 'LOOCV'\n",
    "    \n",
    ")\n",
    "\n",
    "# Expected Improvement method\n",
    "score, data = Mymodel.EI()"
   ]
  },
  {
   "cell_type": "markdown",
   "metadata": {},
   "source": [
    "## by 5-fold CV"
   ]
  },
  {
   "cell_type": "code",
   "execution_count": 21,
   "metadata": {},
   "outputs": [
    {
     "name": "stdout",
     "output_type": "stream",
     "text": [
      "The internal model is instantiated with optimized homogenous noise\n",
      "Time consuming warning\n",
      "5-folds Cross validation is applied\n",
      "Fitting goodness on training dataset: \n",
      "  RMSE = 0.242285   MAE = 0.152272   R2 = 0.944968\n",
      "Fitting goodness of 5-CVs:\n",
      "  RMSE = 0.998537   MAE = 0.631270   R2 = 0.065268\n",
      "current optimal is : 4.4140625\n",
      "The next datum recomended by Expected Improvement : \n",
      " x =  [8.2]\n"
     ]
    }
   ],
   "source": [
    "Bgolearn = BGOS.Bgolearn()\n",
    "\n",
    "# by n-folds cross validation\n",
    "# if n = 5\n",
    "Mymodel = Bgolearn.fit(\n",
    "    data_matrix = x,Measured_response = y , virtual_samples = vs,\n",
    "    CV_test = 5\n",
    "    \n",
    ")\n",
    "\n",
    "# Expected Improvement method\n",
    "score, data = Mymodel.EI()"
   ]
  },
  {
   "cell_type": "markdown",
   "metadata": {},
   "source": [
    "## Bgolearn provided many acquisition function, e.g., Knowledge Gradient"
   ]
  },
  {
   "cell_type": "code",
   "execution_count": 13,
   "metadata": {},
   "outputs": [
    {
     "name": "stdout",
     "output_type": "stream",
     "text": [
      " ____                 _                           \n",
      "| __ )   __ _   ___  | |  ___   __ _  _ __  _ __  \n",
      "|  _ \\  / _` | / _ \\ | | / _ \\ / _` || '__|| '_ \\ \n",
      "| |_) || (_| || (_) || ||  __/| (_| || |   | | | |\n",
      "|____/  \\__, | \\___/ |_| \\___| \\__,_||_|   |_| |_|\n",
      "        |___/                                     \n",
      "\n",
      "Package Name : Bgolearn\n",
      "Author : Bin CAO, HKUST(GZ)\n",
      "Intro : https://bgolearn.netlify.app/\n",
      "URL : https://github.com/Bin-Cao/Bgolearn\n",
      "Citation Format Suggestion:\n",
      "[Bin CAO et al]. \"Active learning accelerates the discovery of high strength and high ductility lead-free solder alloys\" [Journal], [2023], [DOI : xx].\n",
      "Executed on : 2023-12-28 16:07:47  | Have a great day.\n",
      "================================================================================\n",
      "The internal model is instantiated with optimized homogenous noise\n",
      "Execution using multiple processes, processes num = 4,\n",
      "The next datum recomended by Knowledge Gradient : \n",
      " x =  [6.1]\n",
      "The predictions of Bgolearn are : \n",
      " y =  5.107177118584491\n"
     ]
    }
   ],
   "source": [
    "Bgolearn = BGOS.Bgolearn()\n",
    "\n",
    "Mymodel = Bgolearn.fit(\n",
    "    data_matrix = x,Measured_response = y ,virtual_samples = vs,\n",
    "\n",
    ")\n",
    "\n",
    "# Knowledge Gradient method\n",
    "score, data = Mymodel.Knowledge_G(MC_num=4,Proc_num=4)"
   ]
  },
  {
   "cell_type": "markdown",
   "metadata": {},
   "source": [
    "more details, see https://bgolearn.netlify.app/"
   ]
  },
  {
   "cell_type": "code",
   "execution_count": null,
   "metadata": {},
   "outputs": [],
   "source": []
  },
  {
   "cell_type": "code",
   "execution_count": null,
   "metadata": {},
   "outputs": [],
   "source": []
  }
 ],
 "metadata": {
  "kernelspec": {
   "display_name": "Python 3 (ipykernel)",
   "language": "python",
   "name": "python3"
  },
  "language_info": {
   "codemirror_mode": {
    "name": "ipython",
    "version": 3
   },
   "file_extension": ".py",
   "mimetype": "text/x-python",
   "name": "python",
   "nbconvert_exporter": "python",
   "pygments_lexer": "ipython3",
   "version": "3.9.12"
  }
 },
 "nbformat": 4,
 "nbformat_minor": 4
}
